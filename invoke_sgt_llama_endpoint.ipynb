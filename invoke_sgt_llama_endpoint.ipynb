{
 "cells": [
  {
   "cell_type": "markdown",
   "id": "ff402f84",
   "metadata": {},
   "source": [
    "# Invoke SGT-Llama Endpoint\n",
    "\n",
    "This notebook demonstrates how to invoke an SGT-Llama-Fused AWS SageMaker endpoint via an assumed a role."
   ]
  },
  {
   "cell_type": "markdown",
   "id": "de326562",
   "metadata": {},
   "source": [
    "## AWS Helpers"
   ]
  },
  {
   "cell_type": "code",
   "execution_count": 1,
   "id": "8715a3a7",
   "metadata": {},
   "outputs": [
    {
     "name": "stdout",
     "output_type": "stream",
     "text": [
      "Requirement already satisfied: boto3 in /home/jay/.conda/envs/smfusionp312/lib/python3.12/site-packages (1.38.2)\n",
      "Requirement already satisfied: types-boto3[sagemaker,sagemaker-runtime] in /home/jay/.conda/envs/smfusionp312/lib/python3.12/site-packages (1.38.5)\n",
      "Requirement already satisfied: botocore<1.39.0,>=1.38.2 in /home/jay/.conda/envs/smfusionp312/lib/python3.12/site-packages (from boto3) (1.38.2)\n",
      "Requirement already satisfied: jmespath<2.0.0,>=0.7.1 in /home/jay/.conda/envs/smfusionp312/lib/python3.12/site-packages (from boto3) (1.0.1)\n",
      "Requirement already satisfied: s3transfer<0.13.0,>=0.12.0 in /home/jay/.conda/envs/smfusionp312/lib/python3.12/site-packages (from boto3) (0.12.0)\n",
      "Requirement already satisfied: botocore-stubs in /home/jay/.conda/envs/smfusionp312/lib/python3.12/site-packages (from types-boto3[sagemaker,sagemaker-runtime]) (1.38.4)\n",
      "Requirement already satisfied: types-s3transfer in /home/jay/.conda/envs/smfusionp312/lib/python3.12/site-packages (from types-boto3[sagemaker,sagemaker-runtime]) (0.12.0)\n",
      "Requirement already satisfied: types-boto3-sagemaker<1.39.0,>=1.38.0 in /home/jay/.conda/envs/smfusionp312/lib/python3.12/site-packages (from types-boto3[sagemaker,sagemaker-runtime]) (1.38.5)\n",
      "Requirement already satisfied: types-boto3-sagemaker-runtime<1.39.0,>=1.38.0 in /home/jay/.conda/envs/smfusionp312/lib/python3.12/site-packages (from types-boto3[sagemaker,sagemaker-runtime]) (1.38.0)\n",
      "Requirement already satisfied: python-dateutil<3.0.0,>=2.1 in /home/jay/.conda/envs/smfusionp312/lib/python3.12/site-packages (from botocore<1.39.0,>=1.38.2->boto3) (2.9.0.post0)\n",
      "Requirement already satisfied: urllib3!=2.2.0,<3,>=1.25.4 in /home/jay/.conda/envs/smfusionp312/lib/python3.12/site-packages (from botocore<1.39.0,>=1.38.2->boto3) (2.4.0)\n",
      "Requirement already satisfied: types-awscrt in /home/jay/.conda/envs/smfusionp312/lib/python3.12/site-packages (from botocore-stubs->types-boto3[sagemaker,sagemaker-runtime]) (0.26.1)\n",
      "Requirement already satisfied: six>=1.5 in /home/jay/.conda/envs/smfusionp312/lib/python3.12/site-packages (from python-dateutil<3.0.0,>=2.1->botocore<1.39.0,>=1.38.2->boto3) (1.17.0)\n",
      "Note: you may need to restart the kernel to use updated packages.\n"
     ]
    }
   ],
   "source": [
    "# Install dependencies\n",
    "%pip install boto3 'types-boto3[sagemaker,sagemaker-runtime]'"
   ]
  },
  {
   "cell_type": "code",
   "execution_count": 2,
   "id": "37995ab8",
   "metadata": {},
   "outputs": [],
   "source": [
    "import json\n",
    "from typing import Any, Final\n",
    "\n",
    "import boto3\n",
    "from types_boto3_sagemaker_runtime.client import SageMakerRuntimeClient\n",
    "\n",
    "AWS_REGION: Final[str] = \"us-east-1\"\n",
    "\n",
    "\n",
    "def assume_role(\n",
    "    role_arn: str,\n",
    "    boto_session: boto3.Session | None = None,\n",
    "    session_name: str = \"AssumeRoleSession\",\n",
    "    profile_name: str | None = None,\n",
    ") -> boto3.Session:\n",
    "    \"\"\"Create a session using an assumed role.\n",
    "    The session uses temporary credentials and is not advised for use\n",
    "    in long running jobs.\n",
    "\n",
    "    Args:\n",
    "        boto_session: The boto3 session to use.\n",
    "        role_arn: The ARN of the role to assume.\n",
    "        session_name: The name of the session.\n",
    "        profile_name: The name of the profile to use if boto_session is not provided.\n",
    "\n",
    "    Returns:\n",
    "        The session with the assumed role.\n",
    "    \"\"\"\n",
    "    if boto_session is None:\n",
    "        boto_session = boto3.Session(profile_name=profile_name)\n",
    "\n",
    "    sts_client = boto_session.client(\"sts\")\n",
    "\n",
    "    response = sts_client.assume_role(RoleArn=role_arn, RoleSessionName=session_name)\n",
    "    credentials = response[\"Credentials\"]\n",
    "\n",
    "    # Create a new session with the assumed role's credentials\n",
    "    assumed_session = boto3.Session(\n",
    "        aws_access_key_id=credentials[\"AccessKeyId\"],\n",
    "        aws_secret_access_key=credentials[\"SecretAccessKey\"],\n",
    "        aws_session_token=credentials[\"SessionToken\"],\n",
    "        region_name=AWS_REGION,\n",
    "    )\n",
    "\n",
    "    return assumed_session\n",
    "\n",
    "\n",
    "def invoke_sagemaker_endpoint(endpoint_name: str, payload: dict[str, str], b3_session: boto3.Session) -> dict:\n",
    "    \"\"\"Invoke a SageMaker endpoint with the given payload.\n",
    "\n",
    "    Args:\n",
    "        endpoint_name: The name of the SageMaker endpoint.\n",
    "        payload: The input data to send to the endpoint.\n",
    "        b3_session: A boto3 session with authorization to invoke endpoints.\n",
    "\n",
    "    Returns:\n",
    "        dict: The response from the SageMaker endpoint.\n",
    "    \"\"\"\n",
    "    runtime_client: SageMakerRuntimeClient = b3_session.client(\"sagemaker-runtime\")\n",
    "    response = runtime_client.invoke_endpoint(EndpointName=endpoint_name, ContentType=\"application/json\", Body=json.dumps(payload))\n",
    "    return json.loads(response[\"Body\"].read().decode(\"utf-8\"))"
   ]
  },
  {
   "cell_type": "markdown",
   "id": "34bf0ac4",
   "metadata": {},
   "source": [
    "## Set Up Boto3 Sessions"
   ]
  },
  {
   "cell_type": "code",
   "execution_count": null,
   "id": "1b5398fa",
   "metadata": {},
   "outputs": [],
   "source": [
    "AWS_PROFILE: Final[str] = \"<< YOUR PROFILE NAME HERE\"\n",
    "# SESSION = boto3.Session() # Use this if you'd like to create your own session rather than use an AWS profile.\n",
    "SAGEMAKER_INVOKE_ROLE: Final[str] = \"arn:aws:iam::423667443377:role/InvokeSageMakerEndpoint\"\n",
    "ENDPOINT_NAME: Final[str] = \"fused-sgt-llama-8B-g54x\"\n",
    "\n",
    "sagemaker_b3_session: boto3.Session = assume_role(\n",
    "    role_arn=SAGEMAKER_INVOKE_ROLE,\n",
    "    profile_name=AWS_PROFILE,\n",
    "    # boto_session=SESSION,\n",
    ")"
   ]
  },
  {
   "cell_type": "markdown",
   "id": "eb6722da",
   "metadata": {},
   "source": [
    "## Invoke Endpoint\n",
    "\n",
    "The endpoint adheres to the following API contract based on the [Bedrock Antrhopic Claude Messages API](https://docs.aws.amazon.com/bedrock/latest/userguide/model-parameters-anthropic-claude-messages.html)\n",
    "\n",
    "### Request\n",
    "\n",
    "```json\n",
    "{\n",
    "    \"messages\": [ \n",
    "        { \"role\": str, \"content\": str} \\\\ Message\n",
    "    ],\n",
    "    \"max_tokens\": int,\n",
    "    \"temperature\": float,\n",
    "    \"top_p\": float,\n",
    "}\n",
    "```\n",
    "\n",
    "* `messages` [`list[dict]`]: Each element is text \"content\" sent by a \"role\".\n",
    "    *   `role`: Either \"user\" or \"assistant\"\n",
    "    *   `content`: The text sent by the role.\n",
    "\n",
    "* `max_tokens` [int]: The maximum number of tokens allowed to generate in response. Default is 2048.\n",
    "* `temperature` [float]: Controls the randomness of the model. Default is 0.01.\n",
    "* `top_p` [float]: The top probability to cut off nucleus sampling. Default is 0.999. You should alter either `temperature` or `top_p`, but not both.\n",
    "\n",
    "### Response\n",
    "\n",
    "```json\n",
    "{\n",
    "    \"id\": str,\n",
    "    \"content\": list[str],\n",
    "    \"model\": str,\n",
    "}\n",
    "```\n",
    "\n",
    "* `id` [str]: A uuid generated for the response.\n",
    "* `content` [list[str]]: A list with a single string that is the response of the model.\n",
    "* `model` [str]: The name of the model that generated the response."
   ]
  },
  {
   "cell_type": "markdown",
   "id": "450ddf39",
   "metadata": {},
   "source": [
    "## A Chat Example"
   ]
  },
  {
   "cell_type": "code",
   "execution_count": 4,
   "id": "071c21af",
   "metadata": {},
   "outputs": [
    {
     "data": {
      "text/plain": [
       "{'id': '3f881cd3-7467-4c68-9f2d-23c5faadc54b',\n",
       " 'content': ['The capital of France is Paris.'],\n",
       " 'model': 'SGT-Llama'}"
      ]
     },
     "execution_count": 4,
     "metadata": {},
     "output_type": "execute_result"
    }
   ],
   "source": [
    "REQUEST: dict[str, Any] = {\n",
    "    \"messages\": [\n",
    "        {\"role\": \"user\", \"content\": \"What is the capital of France?\"},\n",
    "    ],\n",
    "    \"max_tokens\": 120,\n",
    "}\n",
    "\n",
    "response = invoke_sagemaker_endpoint(ENDPOINT_NAME, REQUEST, b3_session=sagemaker_b3_session)\n",
    "response"
   ]
  },
  {
   "cell_type": "code",
   "execution_count": 5,
   "id": "6e139659",
   "metadata": {},
   "outputs": [],
   "source": [
    "chat_request: dict[str, Any] = {\n",
    "    \"messages\": [\n",
    "        {\"role\": \"user\", \"content\": \"What is the capital of France?\"},\n",
    "        {\"role\": \"assistant\", \"content\": response[\"content\"][0]},\n",
    "        {\"role\": \"user\", \"content\": \"What landmark is there?\"},\n",
    "    ],\n",
    "    \"max_tokens\": 120,\n",
    "}"
   ]
  },
  {
   "cell_type": "code",
   "execution_count": 6,
   "id": "627cdeaa",
   "metadata": {},
   "outputs": [
    {
     "data": {
      "text/plain": [
       "{'id': 'a626fc37-8a51-49d1-ac9c-152fb64245be',\n",
       " 'content': [\"One of the most famous landmarks in Paris is the Eiffel Tower (La Tour Eiffel in French). It's a iconic iron lattice tower built for the 1889 World's Fair and has become a symbol of Paris and France.\"],\n",
       " 'model': 'SGT-Llama'}"
      ]
     },
     "execution_count": 6,
     "metadata": {},
     "output_type": "execute_result"
    }
   ],
   "source": [
    "response = invoke_sagemaker_endpoint(ENDPOINT_NAME, chat_request, b3_session=sagemaker_b3_session)\n",
    "response"
   ]
  },
  {
   "cell_type": "code",
   "execution_count": null,
   "id": "2c0368d7",
   "metadata": {},
   "outputs": [],
   "source": []
  }
 ],
 "metadata": {
  "kernelspec": {
   "display_name": "smfusionp312",
   "language": "python",
   "name": "python3"
  },
  "language_info": {
   "codemirror_mode": {
    "name": "ipython",
    "version": 3
   },
   "file_extension": ".py",
   "mimetype": "text/x-python",
   "name": "python",
   "nbconvert_exporter": "python",
   "pygments_lexer": "ipython3",
   "version": "3.12.9"
  }
 },
 "nbformat": 4,
 "nbformat_minor": 5
}