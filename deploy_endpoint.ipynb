{
 "cells": [
  {
   "cell_type": "markdown",
   "id": "db49508b",
   "metadata": {},
   "source": [
    "# Deploy Endpoint\n",
    "\n",
    "This notebook deploys an endpoint from a ModelPackage."
   ]
  },
  {
   "cell_type": "markdown",
   "id": "5f10e534",
   "metadata": {},
   "source": [
    "## Import Important Imports"
   ]
  },
  {
   "cell_type": "code",
   "execution_count": null,
   "id": "84c481ed",
   "metadata": {},
   "outputs": [],
   "source": [
    "import sys\n",
    "\n",
    "sys.path.append(\"../deploy_model\")\n",
    "\n",
    "import aws_utils as au\n",
    "import boto3\n",
    "\n",
    "import sagemaker"
   ]
  },
  {
   "cell_type": "markdown",
   "id": "13cfde0f",
   "metadata": {},
   "source": [
    "## Constants"
   ]
  },
  {
   "cell_type": "code",
   "execution_count": null,
   "id": "37995ab8",
   "metadata": {},
   "outputs": [
    {
     "name": "stderr",
     "output_type": "stream",
     "text": [
      "INFO:numexpr.utils:Note: detected 224 virtual cores but NumExpr set to maximum of 64, check \"NUMEXPR_MAX_THREADS\" environment variable.\n",
      "INFO:numexpr.utils:Note: NumExpr detected 224 cores but \"NUMEXPR_MAX_THREADS\" not set, so enforcing safe limit of 16.\n",
      "INFO:numexpr.utils:NumExpr defaulting to 16 threads.\n",
      "/home/jay/.conda/envs/smfusionp312/lib/python3.12/site-packages/pydantic/_internal/_fields.py:198: UserWarning: Field name \"json\" in \"MonitoringDatasetFormat\" shadows an attribute in parent \"Base\"\n",
      "  warnings.warn(\n"
     ]
    },
    {
     "name": "stdout",
     "output_type": "stream",
     "text": [
      "sagemaker.config INFO - Not applying SDK defaults from location: /etc/xdg/sagemaker/config.yaml\n",
      "sagemaker.config INFO - Not applying SDK defaults from location: /home/jay/.config/sagemaker/config.yaml\n",
      "Using AWS account 423667443377\n"
     ]
    }
   ],
   "source": [
    "AWS_ACCOUNT_ID = \"proAdmin\"\n",
    "boto_session = boto3.Session(profile_name=AWS_ACCOUNT_ID)\n",
    "\n",
    "AWS_ACCOUNT_ID = boto_session.client(\"sts\").get_caller_identity()[\"Account\"]\n",
    "print(f\"Using AWS account {AWS_ACCOUNT_ID}\")\n",
    "\n",
    "sm_role = f\"arn:aws:iam::{AWS_ACCOUNT_ID}:role/AmazonSageMaker-ExecutionRole-Marketplace\"\n",
    "sm_b3_session = au.assume_role(boto_session, role_arn=sm_role)\n",
    "\n",
    "sm_session = sagemaker.Session(boto_session=sm_b3_session)"
   ]
  },
  {
   "cell_type": "markdown",
   "id": "fc60c8cf",
   "metadata": {},
   "source": [
    "## Deploy Endpoint"
   ]
  },
  {
   "cell_type": "code",
   "execution_count": 4,
   "id": "6ef75b0a",
   "metadata": {},
   "outputs": [],
   "source": [
    "modelpackage_arn = \"arn:aws:sagemaker:us-east-1:423667443377:model-package/fused-sgt-llama-8B\"\n",
    "\n",
    "model = sagemaker.ModelPackage(\n",
    "    role=sm_role,\n",
    "    model_package_arn=modelpackage_arn,\n",
    "    sagemaker_session=sm_session,\n",
    ")"
   ]
  },
  {
   "cell_type": "code",
   "execution_count": 8,
   "id": "ff1f82df",
   "metadata": {},
   "outputs": [
    {
     "name": "stderr",
     "output_type": "stream",
     "text": [
      "INFO:sagemaker:Creating model with name: fused-sgt-llama-8B-2025-04-29-20-00-17-308\n",
      "INFO:sagemaker:Creating endpoint-config with name fused-sgt-llama-8B-g54x\n",
      "INFO:sagemaker:Creating endpoint with name fused-sgt-llama-8B-g54x\n"
     ]
    },
    {
     "name": "stdout",
     "output_type": "stream",
     "text": [
      "----------------!"
     ]
    },
    {
     "data": {
      "text/plain": [
       "'fused-sgt-llama-8B-g54x'"
      ]
     },
     "execution_count": 8,
     "metadata": {},
     "output_type": "execute_result"
    }
   ],
   "source": [
    "# 8B on g5.4xlarge ~ 10min\n",
    "model.deploy(\n",
    "    initial_instance_count=1,\n",
    "    instance_type=\"ml.g5.4xlarge\",\n",
    "    endpoint_name=\"fused-sgt-llama-8B-g54x\",\n",
    "    sagemaker_session=sm_session,\n",
    ")\n",
    "model.endpoint_name"
   ]
  }
 ],
 "metadata": {
  "kernelspec": {
   "display_name": "smfusionp312",
   "language": "python",
   "name": "python3"
  },
  "language_info": {
   "codemirror_mode": {
    "name": "ipython",
    "version": 3
   },
   "file_extension": ".py",
   "mimetype": "text/x-python",
   "name": "python",
   "nbconvert_exporter": "python",
   "pygments_lexer": "ipython3",
   "version": "3.12.9"
  }
 },
 "nbformat": 4,
 "nbformat_minor": 5
}