{
 "cells": [
  {
   "cell_type": "markdown",
   "id": "db49508b",
   "metadata": {},
   "source": [
    "# Deploy Endpoint\n",
    "\n",
    "This notebook deploys an endpoint from a ModelPackage."
   ]
  },
  {
   "cell_type": "markdown",
   "id": "5f10e534",
   "metadata": {},
   "source": [
    "## Import Important Imports"
   ]
  },
  {
   "cell_type": "code",
   "execution_count": null,
   "id": "84c481ed",
   "metadata": {},
   "outputs": [],
   "source": [
    "import boto3\n",
    "import sagemaker"
   ]
  },
  {
   "cell_type": "markdown",
   "id": "161b8d5a",
   "metadata": {},
   "source": [
    "## AWS Utils"
   ]
  },
  {
   "cell_type": "code",
   "execution_count": null,
   "id": "4c8ff03d",
   "metadata": {},
   "outputs": [],
   "source": [
    "def assume_role(\n",
    "    boto_session: boto3.Session | None,\n",
    "    role_arn: str,\n",
    "    session_name: str = \"AssumeRoleSession\",\n",
    "    profile_name=None,\n",
    ") -> boto3.Session:\n",
    "    \"\"\"Create a session with assumed role.\n",
    "\n",
    "    Args:\n",
    "        boto_session (boto3.Session): The boto3 session to use.\n",
    "        role_arn (str): The ARN of the role to assume.\n",
    "        session_name (str): The name of the session.\n",
    "        profile_name (str): The name of the profile to use.\n",
    "\n",
    "    Returns:\n",
    "        boto3.Session: The session with the assumed role.\n",
    "    \"\"\"\n",
    "    if boto_session is None:\n",
    "        assert profile_name\n",
    "        # Create a session using the specified profile\n",
    "        boto_session = boto3.Session(profile_name=profile_name)\n",
    "\n",
    "    # Create an STS client\n",
    "    sts_client = boto_session.client(\"sts\")\n",
    "\n",
    "    # Assume the role\n",
    "    response = sts_client.assume_role(RoleArn=role_arn, RoleSessionName=session_name)\n",
    "\n",
    "    # Extract temporary credentials\n",
    "    credentials = response[\"Credentials\"]\n",
    "\n",
    "    # Create a new session with the assumed role's credentials\n",
    "    assumed_session = boto3.Session(\n",
    "        aws_access_key_id=credentials[\"AccessKeyId\"],\n",
    "        aws_secret_access_key=credentials[\"SecretAccessKey\"],\n",
    "        aws_session_token=credentials[\"SessionToken\"],\n",
    "        region_name=\"us-east-1\",\n",
    "    )\n",
    "\n",
    "    return assumed_session\n"
   ]
  },
  {
   "cell_type": "markdown",
   "id": "13cfde0f",
   "metadata": {},
   "source": [
    "## Constants"
   ]
  },
  {
   "cell_type": "code",
   "execution_count": null,
   "id": "37995ab8",
   "metadata": {},
   "outputs": [],
   "source": [
    "AWS_PROFILE_NAME = \"YOU AWS PROFILE HERE\"\n",
    "boto_session = boto3.Session(profile_name=AWS_PROFILE_NAME)\n",
    "\n",
    "AWS_ACCOUNT_ID = boto_session.client(\"sts\").get_caller_identity()[\"Account\"]\n",
    "print(f\"Using AWS account {AWS_ACCOUNT_ID}\")\n",
    "\n",
    "sm_role = f\"arn:aws:iam::{AWS_ACCOUNT_ID}:role/AmazonSageMaker-ExecutionRole-Marketplace\"\n",
    "sm_b3_session = assume_role(boto_session, role_arn=sm_role)\n",
    "\n",
    "sm_session = sagemaker.Session(boto_session=sm_b3_session)"
   ]
  },
  {
   "cell_type": "markdown",
   "id": "fc60c8cf",
   "metadata": {},
   "source": [
    "## Deploy Endpoint"
   ]
  },
  {
   "cell_type": "code",
   "execution_count": null,
   "id": "6ef75b0a",
   "metadata": {},
   "outputs": [],
   "source": [
    "MODEL_PACKAGE_ARN = \"YOUR MODEL PACKAGE ARN HERE\"\n",
    "\n",
    "model = sagemaker.ModelPackage(\n",
    "    role=sm_role,\n",
    "    model_package_arn=MODEL_PACKAGE_ARN,\n",
    "    sagemaker_session=sm_session,\n",
    ")"
   ]
  },
  {
   "cell_type": "code",
   "execution_count": null,
   "id": "ff1f82df",
   "metadata": {},
   "outputs": [],
   "source": [
    "ENDPOINT_NAME = \"YOUR ENDPOINT NAME HERE\"\n",
    "# 8B on g5.4xlarge ~ 10min\n",
    "model.deploy(\n",
    "    initial_instance_count=1,\n",
    "    instance_type=\"ml.g5.4xlarge\",\n",
    "    endpoint_name=ENDPOINT_NAME,\n",
    "    sagemaker_session=sm_session,\n",
    ")\n",
    "model.endpoint_name"
   ]
  },
  {
   "cell_type": "code",
   "execution_count": null,
   "id": "a2c70088",
   "metadata": {},
   "outputs": [],
   "source": []
  }
 ],
 "metadata": {
  "kernelspec": {
   "display_name": "please312",
   "language": "python",
   "name": "python3"
  },
  "language_info": {
   "codemirror_mode": {
    "name": "ipython",
    "version": 3
   },
   "file_extension": ".py",
   "mimetype": "text/x-python",
   "name": "python",
   "nbconvert_exporter": "python",
   "pygments_lexer": "ipython3",
   "version": "3.12.9"
  }
 },
 "nbformat": 4,
 "nbformat_minor": 5
}
